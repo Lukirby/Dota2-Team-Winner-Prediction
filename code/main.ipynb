{
 "cells": [
  {
   "cell_type": "code",
   "execution_count": 8,
   "metadata": {},
   "outputs": [],
   "source": [
    "import pandas as pd\n",
    "import numpy as np\n",
    "#branch loda\n",
    "dataset_path = \"../dataset/mlcourse-dota2-win-prediction/train_features.csv\""
   ]
  },
  {
   "cell_type": "code",
   "execution_count": 15,
   "metadata": {},
   "outputs": [
    {
     "name": "stdout",
     "output_type": "stream",
     "text": [
      "Index(['match_id_hash', 'game_time', 'game_mode', 'lobby_type',\n",
      "       'objectives_len', 'chat_len', 'r1_hero_id', 'r1_kills', 'r1_deaths',\n",
      "       'r1_assists',\n",
      "       ...\n",
      "       'd5_stuns', 'd5_creeps_stacked', 'd5_camps_stacked', 'd5_rune_pickups',\n",
      "       'd5_firstblood_claimed', 'd5_teamfight_participation',\n",
      "       'd5_towers_killed', 'd5_roshans_killed', 'd5_obs_placed',\n",
      "       'd5_sen_placed'],\n",
      "      dtype='object', length=246)\n",
      "[ 2  3  4  5 12 16 22 23]\n",
      "39675\n",
      "31762\n",
      "408\n",
      "25795\n",
      "5967\n",
      "379\n",
      "29\n"
     ]
    }
   ],
   "source": [
    "df = pd.read_csv(dataset_path)\n",
    "\n",
    "print(df.columns)\n",
    "print(np.unique(df[\"game_mode\"]))\n",
    "print(len(df[\"game_mode\"]))\n",
    "print(len(df[df[\"game_mode\"]==22]))\n",
    "df_22 = df[df[\"game_mode\"]==22]\n",
    "print(len(df[df[\"game_mode\"]==2]))\n",
    "df_2 = df[df[\"game_mode\"]==2]\n",
    "\n",
    "print(len(df_22[df_22[\"lobby_type\"]==7]))\n",
    "\n",
    "print(len(df_22[df_22[\"lobby_type\"]==0]))\n",
    "\n",
    "\n",
    "print(len(df_2[df_2[\"lobby_type\"]==7]))\n",
    "\n",
    "print(len(df_2[df_2[\"lobby_type\"]==0]))"
   ]
  },
  {
   "cell_type": "code",
   "execution_count": null,
   "metadata": {},
   "outputs": [],
   "source": [
    "print(df[\"\"])"
   ]
  }
 ],
 "metadata": {
  "kernelspec": {
   "display_name": "machine-learning",
   "language": "python",
   "name": "python3"
  },
  "language_info": {
   "codemirror_mode": {
    "name": "ipython",
    "version": 3
   },
   "file_extension": ".py",
   "mimetype": "text/x-python",
   "name": "python",
   "nbconvert_exporter": "python",
   "pygments_lexer": "ipython3",
   "version": "3.12.4"
  }
 },
 "nbformat": 4,
 "nbformat_minor": 2
}
