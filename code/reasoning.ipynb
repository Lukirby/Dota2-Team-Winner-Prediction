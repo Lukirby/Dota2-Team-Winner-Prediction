{
 "cells": [
  {
   "cell_type": "code",
   "execution_count": null,
   "metadata": {},
   "outputs": [
    {
     "name": "stdout",
     "output_type": "stream",
     "text": [
      "(32153, 64)\n",
      "(32153,)\n"
     ]
    }
   ],
   "source": [
    "import pandas as pd\n",
    "import numpy as np\n",
    "\n",
    "dataset_path = \"../dataset/mlcourse-dota2-win-prediction/train_features.csv\"\n",
    "\n",
    "df = pd.read_csv(dataset_path)\n",
    "\n",
    "print(df.columns)\n",
    "\n",
    "print(np.unique(df[\"game_mode\"]))\n",
    "print(len(df[\"game_mode\"]))\n",
    "print(len(df[df[\"game_mode\"]==22]))\n",
    "df_22 = df[df[\"game_mode\"]==22]\n",
    "print(len(df[df[\"game_mode\"]==2]))\n",
    "df_2 = df[df[\"game_mode\"]==2]\n",
    "\n",
    "print(len(df_22[df_22[\"lobby_type\"]==7]))\n",
    "\n",
    "print(len(df_22[df_22[\"lobby_type\"]==0]))\n",
    "\n",
    "\n",
    "print(len(df_2[df_2[\"lobby_type\"]==7]))\n",
    "\n",
    "print(len(df_2[df_2[\"lobby_type\"]==0]))\n",
    "print(len(df[(df[\"game_mode\"]==2) & (df[\"lobby_type\"]==0)]))\n",
    "print(len(df.query(\"game_mode == 2 and lobby_type == 0\")))\n",
    "\n",
    "single_hero_labels = [s for s in df.columns if s.startswith('d1')]\n",
    "\n",
    "print(single_hero_labels)\n",
    "\n",
    "hero_id_labels = [s for s in df.columns if s.endswith('_hero_id')]\n",
    "\n",
    "print(hero_id_labels)\n",
    "\n",
    "\n",
    "hero_category = 5 # carry - midlaner - offlaner - roamer - support\n",
    "\n",
    "hero_id_set = {i: set() for i in range(len(hero_id_labels))}\n",
    "\n",
    "hero_id_set_tot = set()\n",
    "\n",
    "for n,label in enumerate(hero_id_labels):\n",
    "    for id in df[label]:\n",
    "        hero_id_set[n].add(id)\n",
    "\n",
    "for i in range(len(hero_id_labels)):\n",
    "    print(f\"{i}. {len(hero_id_set[i])}\")\n",
    "    hero_id_set_tot = hero_id_set_tot.union(hero_id_set[i])\n",
    "\n",
    "print(len(hero_id_set_tot))"
   ]
  }
 ],
 "metadata": {
  "kernelspec": {
   "display_name": "machine-learning",
   "language": "python",
   "name": "python3"
  },
  "language_info": {
   "name": "python",
   "version": "3.12.4"
  }
 },
 "nbformat": 4,
 "nbformat_minor": 2
}
