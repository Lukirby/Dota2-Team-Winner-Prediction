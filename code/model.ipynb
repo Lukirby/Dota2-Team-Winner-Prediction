{
 "cells": [
  {
   "cell_type": "code",
   "execution_count": 1,
   "metadata": {},
   "outputs": [],
   "source": [
    "import pandas as pd\n",
    "import numpy as np\n",
    "#branch loda\n",
    "dataset_path = \"../dataset/mlcourse-dota2-win-prediction/train_features.csv\""
   ]
  },
  {
   "cell_type": "code",
   "execution_count": 9,
   "metadata": {},
   "outputs": [
    {
     "name": "stdout",
     "output_type": "stream",
     "text": [
      "Index(['match_id_hash', 'game_time', 'game_mode', 'lobby_type',\n",
      "       'objectives_len', 'chat_len', 'r1_hero_id', 'r1_kills', 'r1_deaths',\n",
      "       'r1_assists',\n",
      "       ...\n",
      "       'd5_stuns', 'd5_creeps_stacked', 'd5_camps_stacked', 'd5_rune_pickups',\n",
      "       'd5_firstblood_claimed', 'd5_teamfight_participation',\n",
      "       'd5_towers_killed', 'd5_roshans_killed', 'd5_obs_placed',\n",
      "       'd5_sen_placed'],\n",
      "      dtype='object', length=246)\n",
      "[ 2  3  4  5 12 16 22 23]\n",
      "39675\n",
      "3564\n",
      "408\n",
      "25795\n",
      "5967\n",
      "379\n",
      "29\n",
      "29\n",
      "29\n",
      "['d1_hero_id', 'd1_kills', 'd1_deaths', 'd1_assists', 'd1_denies', 'd1_gold', 'd1_lh', 'd1_xp', 'd1_health', 'd1_max_health', 'd1_max_mana', 'd1_level', 'd1_x', 'd1_y', 'd1_stuns', 'd1_creeps_stacked', 'd1_camps_stacked', 'd1_rune_pickups', 'd1_firstblood_claimed', 'd1_teamfight_participation', 'd1_towers_killed', 'd1_roshans_killed', 'd1_obs_placed', 'd1_sen_placed']\n",
      "['r1_hero_id', 'r2_hero_id', 'r3_hero_id', 'r4_hero_id', 'r5_hero_id', 'd1_hero_id', 'd2_hero_id', 'd3_hero_id', 'd4_hero_id', 'd5_hero_id']\n",
      "0. 115\n",
      "1. 115\n",
      "2. 115\n",
      "3. 115\n",
      "4. 115\n",
      "5. 115\n",
      "6. 115\n",
      "7. 115\n",
      "8. 115\n",
      "9. 115\n",
      "115\n"
     ]
    }
   ],
   "source": [
    "df = pd.read_csv(dataset_path)\n",
    "\n",
    "print(df.columns)\n",
    "\n",
    "print(np.unique(df[\"game_mode\"]))\n",
    "print(len(df[\"game_mode\"]))\n",
    "print(len(df[df[\"game_mode\"]==4]))\n",
    "df_22 = df[df[\"game_mode\"]==22]\n",
    "print(len(df[df[\"game_mode\"]==2]))\n",
    "df_2 = df[df[\"game_mode\"]==2]\n",
    "\n",
    "print(len(df_22[df_22[\"lobby_type\"]==7]))\n",
    "\n",
    "print(len(df_22[df_22[\"lobby_type\"]==0]))\n",
    "\n",
    "\n",
    "print(len(df_2[df_2[\"lobby_type\"]==7]))\n",
    "\n",
    "print(len(df_2[df_2[\"lobby_type\"]==0]))"
   ]
  },
  {
   "cell_type": "code",
   "execution_count": 5,
   "metadata": {},
   "outputs": [
    {
     "name": "stdout",
     "output_type": "stream",
     "text": [
      "                          match_id_hash  game_time  game_mode  lobby_type  \\\n",
      "0      a400b8f29dece5f4d266f49f1ae2e98a        155         22           7   \n",
      "1      b9c57c450ce74a2af79c9ce96fac144d        658          4           0   \n",
      "2      6db558535151ea18ca70a6892197db41         21         23           0   \n",
      "3      46a0ddce8f7ed2a8d9bd5edcbb925682        576         22           7   \n",
      "4      b1b35ff97723d9b7ade1c9c3cf48f770        453         22           7   \n",
      "...                                 ...        ...        ...         ...   \n",
      "39670  defd0caeed6ea83d7d5fbdec013fe7d1       1783         22           0   \n",
      "39671  bc7a87ed5f9c2bca55f9f7a93da0b0c5        377         22           7   \n",
      "39672  e2ca68ac1a6847f4a37f6c9c8ee8695b        643         22           7   \n",
      "39673  47ad6454ede66c1c78fdaa9391dfc556       2405         22           7   \n",
      "39674  9928dfde50efcbdb2055da23dcdbc101       1775         22           0   \n",
      "\n",
      "       objectives_len  chat_len  r1_hero_id  r1_kills  r1_deaths  r1_assists  \\\n",
      "0                   1        11          11         0          0           0   \n",
      "1                   3        10          15         7          2           0   \n",
      "2                   0         0         101         0          0           0   \n",
      "3                   1         4          14         1          0           3   \n",
      "4                   1         3          42         0          1           1   \n",
      "...               ...       ...         ...       ...        ...         ...   \n",
      "39670               8        23           3         1          9           9   \n",
      "39671               1         0          14         0          2           1   \n",
      "39672               1        23          63         1          4           0   \n",
      "39673              12         4          22         3          8          14   \n",
      "39674              10        13          32         3          4          15   \n",
      "\n",
      "       ...   d5_stuns  d5_creeps_stacked  d5_camps_stacked  d5_rune_pickups  \\\n",
      "0      ...   0.000000                  0                 0                0   \n",
      "1      ...   0.000000                  0                 0                0   \n",
      "2      ...   0.000000                  0                 0                0   \n",
      "3      ...   8.664527                  3                 1                3   \n",
      "4      ...   0.000000                  2                 1                2   \n",
      "...    ...        ...                ...               ...              ...   \n",
      "39670  ...  26.493834                  6                 2                3   \n",
      "39671  ...   0.000000                  0                 0                1   \n",
      "39672  ...   2.532715                  0                 0                3   \n",
      "39673  ...  17.583984                  3                 1                4   \n",
      "39674  ...   8.331238                  0                 0                1   \n",
      "\n",
      "       d5_firstblood_claimed  d5_teamfight_participation  d5_towers_killed  \\\n",
      "0                          0                      0.0000                 0   \n",
      "1                          0                      0.0000                 0   \n",
      "2                          0                      0.0000                 0   \n",
      "3                          0                      0.0000                 0   \n",
      "4                          0                      0.2500                 0   \n",
      "...                      ...                         ...               ...   \n",
      "39670                      0                      0.5625                 0   \n",
      "39671                      0                      0.0000                 0   \n",
      "39672                      1                      0.5000                 0   \n",
      "39673                      0                      0.6250                 0   \n",
      "39674                      0                      0.5500                 1   \n",
      "\n",
      "       d5_roshans_killed  d5_obs_placed  d5_sen_placed  \n",
      "0                      0              0              0  \n",
      "1                      0              0              0  \n",
      "2                      0              0              0  \n",
      "3                      0              2              0  \n",
      "4                      0              0              0  \n",
      "...                  ...            ...            ...  \n",
      "39670                  0              7              2  \n",
      "39671                  0              0              0  \n",
      "39672                  0              1              0  \n",
      "39673                  0              0              0  \n",
      "39674                  0              0              0  \n",
      "\n",
      "[39675 rows x 246 columns]\n"
     ]
    }
   ],
   "source": [
    "print(df)"
   ]
  }
 ],
 "metadata": {
  "kernelspec": {
   "display_name": "base",
   "language": "python",
   "name": "python3"
  },
  "language_info": {
   "codemirror_mode": {
    "name": "ipython",
    "version": 3
   },
   "file_extension": ".py",
   "mimetype": "text/x-python",
   "name": "python",
   "nbconvert_exporter": "python",
   "pygments_lexer": "ipython3",
   "version": "3.9.7"
  }
 },
 "nbformat": 4,
 "nbformat_minor": 2
}
